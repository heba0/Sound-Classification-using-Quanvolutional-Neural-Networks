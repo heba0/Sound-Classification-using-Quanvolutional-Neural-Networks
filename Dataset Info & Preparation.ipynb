{
 "cells": [
  {
   "cell_type": "code",
   "execution_count": 87,
   "id": "dominant-accent",
   "metadata": {},
   "outputs": [],
   "source": [
    "import matplotlib.pyplot as plt\n",
    "import numpy as np\n",
    "import pandas as pd"
   ]
  },
  {
   "cell_type": "markdown",
   "id": "tribal-identity",
   "metadata": {},
   "source": [
    "In this notebook we will get to know our data better. We'll be splitting the given training dataset into training and testing datasets of smaller size."
   ]
  },
  {
   "cell_type": "code",
   "execution_count": 88,
   "id": "fourth-intro",
   "metadata": {},
   "outputs": [
    {
     "data": {
      "text/html": [
       "<div>\n",
       "<style scoped>\n",
       "    .dataframe tbody tr th:only-of-type {\n",
       "        vertical-align: middle;\n",
       "    }\n",
       "\n",
       "    .dataframe tbody tr th {\n",
       "        vertical-align: top;\n",
       "    }\n",
       "\n",
       "    .dataframe thead th {\n",
       "        text-align: right;\n",
       "    }\n",
       "</style>\n",
       "<table border=\"1\" class=\"dataframe\">\n",
       "  <thead>\n",
       "    <tr style=\"text-align: right;\">\n",
       "      <th></th>\n",
       "      <th>fname</th>\n",
       "      <th>label</th>\n",
       "      <th>manually_verified</th>\n",
       "    </tr>\n",
       "  </thead>\n",
       "  <tbody>\n",
       "    <tr>\n",
       "      <th>0</th>\n",
       "      <td>00044347.wav</td>\n",
       "      <td>Hi-hat</td>\n",
       "      <td>0</td>\n",
       "    </tr>\n",
       "    <tr>\n",
       "      <th>1</th>\n",
       "      <td>001ca53d.wav</td>\n",
       "      <td>Saxophone</td>\n",
       "      <td>1</td>\n",
       "    </tr>\n",
       "    <tr>\n",
       "      <th>2</th>\n",
       "      <td>002d256b.wav</td>\n",
       "      <td>Trumpet</td>\n",
       "      <td>0</td>\n",
       "    </tr>\n",
       "    <tr>\n",
       "      <th>3</th>\n",
       "      <td>0033e230.wav</td>\n",
       "      <td>Glockenspiel</td>\n",
       "      <td>1</td>\n",
       "    </tr>\n",
       "    <tr>\n",
       "      <th>4</th>\n",
       "      <td>00353774.wav</td>\n",
       "      <td>Cello</td>\n",
       "      <td>1</td>\n",
       "    </tr>\n",
       "  </tbody>\n",
       "</table>\n",
       "</div>"
      ],
      "text/plain": [
       "          fname         label  manually_verified\n",
       "0  00044347.wav        Hi-hat                  0\n",
       "1  001ca53d.wav     Saxophone                  1\n",
       "2  002d256b.wav       Trumpet                  0\n",
       "3  0033e230.wav  Glockenspiel                  1\n",
       "4  00353774.wav         Cello                  1"
      ]
     },
     "execution_count": 88,
     "metadata": {},
     "output_type": "execute_result"
    }
   ],
   "source": [
    "mypath = 'freesound-audio-tagging/'\n",
    "\n",
    "data=pd.read_csv(mypath+'/train.csv')\n",
    "data.head()"
   ]
  },
  {
   "cell_type": "code",
   "execution_count": 89,
   "id": "refined-convertible",
   "metadata": {},
   "outputs": [
    {
     "name": "stdout",
     "output_type": "stream",
     "text": [
      "Dataset size: 9473 \n",
      "Number of categories: 41\n"
     ]
    }
   ],
   "source": [
    "ds_size = data['label'].size\n",
    "n_categories= data['label'].nunique()\n",
    "\n",
    "print(\"Dataset size: %d \\nNumber of categories: %d\"%(ds_size, n_categories))"
   ]
  },
  {
   "cell_type": "code",
   "execution_count": 90,
   "id": "organic-satisfaction",
   "metadata": {
    "scrolled": true
   },
   "outputs": [
    {
     "data": {
      "text/plain": [
       "Trumpet                  300\n",
       "Flute                    300\n",
       "Squeak                   300\n",
       "Saxophone                300\n",
       "Fart                     300\n",
       "Shatter                  300\n",
       "Acoustic_guitar          300\n",
       "Hi-hat                   300\n",
       "Clarinet                 300\n",
       "Double_bass              300\n",
       "Laughter                 300\n",
       "Fireworks                300\n",
       "Tearing                  300\n",
       "Violin_or_fiddle         300\n",
       "Bass_drum                300\n",
       "Applause                 300\n",
       "Snare_drum               300\n",
       "Cello                    300\n",
       "Oboe                     299\n",
       "Gong                     292\n",
       "Knock                    279\n",
       "Writing                  270\n",
       "Cough                    243\n",
       "Bark                     239\n",
       "Tambourine               221\n",
       "Burping_or_eructation    210\n",
       "Cowbell                  191\n",
       "Harmonica                165\n",
       "Drawer_open_or_close     158\n",
       "Meow                     155\n",
       "Electric_piano           150\n",
       "Gunshot_or_gunfire       147\n",
       "Microwave_oven           146\n",
       "Keys_jangling            139\n",
       "Telephone                120\n",
       "Computer_keyboard        119\n",
       "Finger_snapping          117\n",
       "Chime                    115\n",
       "Bus                      109\n",
       "Scissors                  95\n",
       "Glockenspiel              94\n",
       "Name: label, dtype: int64"
      ]
     },
     "execution_count": 90,
     "metadata": {},
     "output_type": "execute_result"
    }
   ],
   "source": [
    "#Count number of entries for each category\n",
    "data['label'].value_counts()"
   ]
  },
  {
   "cell_type": "code",
   "execution_count": 91,
   "id": "noble-courage",
   "metadata": {},
   "outputs": [
    {
     "name": "stdout",
     "output_type": "stream",
     "text": [
      "Trumpet             300\n",
      "Flute               300\n",
      "Squeak              300\n",
      "Saxophone           300\n",
      "Shatter             300\n",
      "Acoustic_guitar     300\n",
      "Hi-hat              300\n",
      "Clarinet            300\n",
      "Double_bass         300\n",
      "Laughter            300\n",
      "Fireworks           300\n",
      "Tearing             300\n",
      "Violin_or_fiddle    300\n",
      "Bass_drum           300\n",
      "Applause            300\n",
      "Snare_drum          300\n",
      "Cello               300\n",
      "Name: label, dtype: int64\n"
     ]
    }
   ],
   "source": [
    "#we'll use categories with 300 samples\n",
    "categories =pd. concat([data['label'].value_counts()[:4],data['label'].value_counts()[5:18]], axis=0)\n",
    "print(categories)"
   ]
  },
  {
   "cell_type": "code",
   "execution_count": 92,
   "id": "equivalent-movie",
   "metadata": {},
   "outputs": [
    {
     "name": "stdout",
     "output_type": "stream",
     "text": [
      "['Trumpet', 'Flute', 'Squeak', 'Saxophone', 'Shatter', 'Acoustic_guitar', 'Hi-hat', 'Clarinet', 'Double_bass', 'Laughter', 'Fireworks', 'Tearing', 'Violin_or_fiddle', 'Bass_drum', 'Applause', 'Snare_drum', 'Cello']\n"
     ]
    }
   ],
   "source": [
    "#get an array of the categories we'll be using\n",
    "categories = categories.index.tolist()\n",
    "print(categories)"
   ]
  },
  {
   "cell_type": "code",
   "execution_count": 93,
   "id": "opponent-despite",
   "metadata": {},
   "outputs": [
    {
     "name": "stdout",
     "output_type": "stream",
     "text": [
      "            fname    label  manually_verified\n",
      "0    002d256b.wav  Trumpet                  0\n",
      "1    034e4ffa.wav  Trumpet                  0\n",
      "2    03e13ae7.wav  Trumpet                  0\n",
      "3    04335030.wav  Trumpet                  0\n",
      "4    04490642.wav  Trumpet                  0\n",
      "..            ...      ...                ...\n",
      "505  147f4395.wav    Cello                  0\n",
      "506  14fd19da.wav    Cello                  0\n",
      "507  154df401.wav    Cello                  1\n",
      "508  161be325.wav    Cello                  0\n",
      "509  188acf6a.wav    Cello                  1\n",
      "\n",
      "[510 rows x 3 columns]\n",
      "           fname    label  manually_verified\n",
      "0   16d7ab94.wav  Trumpet                  1\n",
      "1   17cbf99c.wav  Trumpet                  0\n",
      "2   180cd1d7.wav  Trumpet                  1\n",
      "3   1902bf23.wav  Trumpet                  0\n",
      "4   1a13793b.wav  Trumpet                  0\n",
      "..           ...      ...                ...\n",
      "80  18c3695b.wav    Cello                  0\n",
      "81  195f544d.wav    Cello                  1\n",
      "82  199b1adf.wav    Cello                  0\n",
      "83  1aecb8bf.wav    Cello                  0\n",
      "84  1b1e809b.wav    Cello                  0\n",
      "\n",
      "[85 rows x 3 columns]\n"
     ]
    }
   ],
   "source": [
    "#number of training samples\n",
    "n_training = 30\n",
    "#number of testing samples\n",
    "n_testing = 5\n",
    "#first entry\n",
    "train_df = data[data.label == categories[0]][:n_training]\n",
    "test_df = data[data.label == categories[0]][n_training:n_testing+n_training]\n",
    "\n",
    "for category in categories[1:]:\n",
    "    train_df =train_df.append(data[data.label == category][:n_training], ignore_index=True)\n",
    "    test_df =test_df.append(data[data.label == category][n_training:n_testing+n_training], ignore_index=True)\n",
    "\n",
    "#reset index \n",
    "train_df.reset_index(drop=True,inplace = True)\n",
    "test_df.reset_index(drop=True,inplace = True)\n",
    "\n",
    "print(train_df )   \n",
    "print(test_df)"
   ]
  },
  {
   "cell_type": "code",
   "execution_count": 94,
   "id": "permanent-regulation",
   "metadata": {},
   "outputs": [],
   "source": [
    "#save data to a csv file\n",
    "train_df.to_csv(mypath+\"training_new.csv\", index=False)\n",
    "test_df.to_csv(mypath+\"testing_new.csv\", index=False)"
   ]
  }
 ],
 "metadata": {
  "kernelspec": {
   "display_name": "Python 3",
   "language": "python",
   "name": "python3"
  },
  "language_info": {
   "codemirror_mode": {
    "name": "ipython",
    "version": 3
   },
   "file_extension": ".py",
   "mimetype": "text/x-python",
   "name": "python",
   "nbconvert_exporter": "python",
   "pygments_lexer": "ipython3",
   "version": "3.8.5"
  }
 },
 "nbformat": 4,
 "nbformat_minor": 5
}
