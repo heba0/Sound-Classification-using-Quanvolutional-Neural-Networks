{
 "cells": [
  {
   "cell_type": "code",
   "execution_count": 113,
   "id": "duplicate-illinois",
   "metadata": {},
   "outputs": [],
   "source": [
    "from keras.layers import Dropout,Dense, TimeDistributed,Conv2D,MaxPool2D,Flatten\n",
    "from tensorflow.keras.optimizers import SGD\n",
    "from keras.models import Sequential\n",
    "from keras.utils import to_categorical\n",
    "from sklearn.utils.class_weight import compute_class_weight\n",
    "from tqdm import tqdm\n",
    "from python_speech_features import mfcc\n",
    "import matplotlib.pyplot as plt\n",
    "import numpy as np\n",
    "import pandas as pd\n",
    "from scipy.io import wavfile\n",
    "import librosa\n",
    "from librosa.core import resample, to_mono\n",
    "from python_speech_features import mfcc, logfbank\n",
    "import os\n",
    "import pennylane as qml\n",
    "from pennylane import numpy as np\n",
    "from pennylane.templates import RandomLayers\n",
    "import tensorflow as tf\n",
    "from tensorflow import keras"
   ]
  },
  {
   "cell_type": "code",
   "execution_count": 104,
   "id": "basic-princeton",
   "metadata": {},
   "outputs": [
    {
     "name": "stdout",
     "output_type": "stream",
     "text": [
      "            fname    label  manually_verified\n",
      "0    002d256b.wav  Trumpet                  0\n",
      "1    034e4ffa.wav  Trumpet                  0\n",
      "2    03e13ae7.wav  Trumpet                  0\n",
      "3    04335030.wav  Trumpet                  0\n",
      "4    04490642.wav  Trumpet                  0\n",
      "..            ...      ...                ...\n",
      "505  147f4395.wav    Cello                  0\n",
      "506  14fd19da.wav    Cello                  0\n",
      "507  154df401.wav    Cello                  1\n",
      "508  161be325.wav    Cello                  0\n",
      "509  188acf6a.wav    Cello                  1\n",
      "\n",
      "[510 rows x 3 columns] \n",
      "            fname    label  manually_verified\n",
      "0   16d7ab94.wav  Trumpet                  1\n",
      "1   17cbf99c.wav  Trumpet                  0\n",
      "2   180cd1d7.wav  Trumpet                  1\n",
      "3   1902bf23.wav  Trumpet                  0\n",
      "4   1a13793b.wav  Trumpet                  0\n",
      "..           ...      ...                ...\n",
      "80  18c3695b.wav    Cello                  0\n",
      "81  195f544d.wav    Cello                  1\n",
      "82  199b1adf.wav    Cello                  0\n",
      "83  1aecb8bf.wav    Cello                  0\n",
      "84  1b1e809b.wav    Cello                  0\n",
      "\n",
      "[85 rows x 3 columns]\n"
     ]
    }
   ],
   "source": [
    "path = 'freesound-audio-tagging/'\n",
    "\n",
    "data_train =pd.read_csv(path+'/training_new.csv')\n",
    "data_test =pd.read_csv(path+'/testing_new.csv')\n",
    "print(data_train,'\\n',data_test)"
   ]
  },
  {
   "cell_type": "code",
   "execution_count": 105,
   "id": "turned-liechtenstein",
   "metadata": {},
   "outputs": [
    {
     "name": "stdout",
     "output_type": "stream",
     "text": [
      "                label  manually_verified\n",
      "fname                                   \n",
      "002d256b.wav  Trumpet                  0\n",
      "034e4ffa.wav  Trumpet                  0\n",
      "03e13ae7.wav  Trumpet                  0\n",
      "04335030.wav  Trumpet                  0\n",
      "04490642.wav  Trumpet                  0\n",
      "...               ...                ...\n",
      "147f4395.wav    Cello                  0\n",
      "14fd19da.wav    Cello                  0\n",
      "154df401.wav    Cello                  1\n",
      "161be325.wav    Cello                  0\n",
      "188acf6a.wav    Cello                  1\n",
      "\n",
      "[510 rows x 2 columns]\n",
      "                label  manually_verified     length\n",
      "fname                                              \n",
      "002d256b.wav  Trumpet                  0   0.233250\n",
      "034e4ffa.wav  Trumpet                  0   3.326375\n",
      "03e13ae7.wav  Trumpet                  0   5.787687\n",
      "04335030.wav  Trumpet                  0   0.698562\n",
      "04490642.wav  Trumpet                  0  23.600000\n",
      "...               ...                ...        ...\n",
      "147f4395.wav    Cello                  0   5.220000\n",
      "14fd19da.wav    Cello                  0   2.700000\n",
      "154df401.wav    Cello                  1   7.322875\n",
      "161be325.wav    Cello                  0   4.060000\n",
      "188acf6a.wav    Cello                  1   3.780000\n",
      "\n",
      "[510 rows x 3 columns] \n",
      " label\n",
      "Acoustic_guitar      8.303598\n",
      "Applause            13.089894\n",
      "Bass_drum            1.544810\n",
      "Cello                6.767923\n",
      "Clarinet             7.099325\n",
      "Double_bass          3.317569\n",
      "Fireworks            9.796273\n",
      "Flute                5.737056\n",
      "Hi-hat               2.890329\n",
      "Laughter             6.177937\n",
      "Saxophone            7.985958\n",
      "Shatter              2.506415\n",
      "Snare_drum           2.183985\n",
      "Squeak               8.737840\n",
      "Tearing              4.766948\n",
      "Trumpet              7.100469\n",
      "Violin_or_fiddle     5.790117\n",
      "Name: length, dtype: float64 \n",
      "NCLASS:  17\n"
     ]
    }
   ],
   "source": [
    "NCLASS = data_train['label'].nunique()\n",
    "#create a column with the audio length\n",
    "df = data_train.set_index('fname')\n",
    "print(df)\n",
    "for f in df.index:\n",
    "    rate, signal = wavfile.read(path+'clean/'+f)\n",
    "    df.at[f,'length'] = signal.shape[0]/rate\n",
    "\n",
    "#associste each class with the mean audio length of its entries\n",
    "classes = list(np.unique(data_train.label))\n",
    "classes_dist = df.groupby(['label'])['length'].mean()\n",
    "\n",
    "print(df,'\\n',classes_dist,'\\nNCLASS: ',NCLASS)"
   ]
  },
  {
   "cell_type": "code",
   "execution_count": 114,
   "id": "shared-manual",
   "metadata": {},
   "outputs": [],
   "source": [
    "#shuffle classes\n",
    "def build_rand_feat():\n",
    "    X =[]\n",
    "    y = []\n",
    "    _min, _max = float('inf'), -float('inf')\n",
    "    for _ in tqdm(range(n_samples)):\n",
    "        rand_class = np.random.choice(classes_dist.index, p = prob_dist)\n",
    "        file = np.random.choice(df[df.label == rand_class].index)\n",
    "        rate, wav = wavfile.read(path+'clean/'+file)\n",
    "        label = df.at[file,'label']\n",
    "        rand_index = np.random.randint(0,wav.shape[0]-config.step)\n",
    "        sample = wav[rand_index : rand_index+config.step]\n",
    "        #get mel features \n",
    "        X_sample = mfcc(sample,rate,numcep=config.nfeat, nfilt = config.nfilt, nfft=config.nfft).T\n",
    "        _min = min(np.amin(X_sample),_min)\n",
    "        _max = max(np.amax(X_sample),_max)\n",
    "        X.append(X_sample)\n",
    "        y.append(classes.index(label))\n",
    "    X,y = np.array(X), np.array(y)\n",
    "    X = (X-_min)/(_max-_min)  #normalize\n",
    "    X = X.reshape(X.shape[0],X.shape[1],X.shape[2],1)\n",
    "    y = to_categorical(y,num_classes = NCLASS)\n",
    "    return X,y\n",
    "\n",
    "#\n",
    "def get_conv_model():\n",
    "    model = Sequential()\n",
    "    model.add(Conv2D(6, (2, 2),strides=(1,1), padding='valid', activation='relu', input_shape=input_shape))\n",
    "    model.add(Conv2D(32, (2, 2),strides=(1,1), padding='valid', activation='relu', input_shape=input_shape))\n",
    "    model.add(Flatten())\n",
    "    model.add(Dense(NCLASS, activation='softmax'))\n",
    "    opt = SGD(lr=0.02, decay=1e-6, momentum=0.9, nesterov=True, clipnorm=5)\n",
    "    model.compile(optimizer=opt, loss='categorical_crossentropy', metrics=['accuracy'])\n",
    "\n",
    "    return model\n",
    "\n",
    "class Config:\n",
    "    def __init__(self, nfilt=26,nfeat =13,nfft=512,rate = 16000):\n",
    "        self.nfilt = nfilt\n",
    "        self.nfeat = nfeat \n",
    "        self.nfft = nfft\n",
    "        self.rate = rate\n",
    "        self.step = int(rate/10)"
   ]
  },
  {
   "cell_type": "markdown",
   "id": "powerful-fourth",
   "metadata": {},
   "source": [
    "### Run Classical CNN model on the mel spectrogram"
   ]
  },
  {
   "cell_type": "code",
   "execution_count": 108,
   "id": "lucky-suicide",
   "metadata": {},
   "outputs": [
    {
     "data": {
      "image/png": "[encoded data removed]",
      "text/plain": [
       "<Figure size 432x288 with 1 Axes>"
      ]
     },
     "metadata": {},
     "output_type": "display_data"
    },
    {
     "name": "stderr",
     "output_type": "stream",
     "text": [
      "100%|██████████| 62276/62276 [02:51<00:00, 363.46it/s]\n"
     ]
    }
   ],
   "source": [
    "n_samples = 2*int(df['length'].sum()/0.1)\n",
    "prob_dist = classes_dist / classes_dist.sum()\n",
    "choices = np.random.choice(classes_dist.index,p=prob_dist)\n",
    "\n",
    "fig, ax = plt.subplots()\n",
    "ax.set_title('Class Distribution',y= 1.08)\n",
    "ax.pie(classes_dist,labels=classes_dist.index,autopct='%1.1f%%',shadow = False, startangle=90)\n",
    "ax.axis('equal')\n",
    "plt.show()\n",
    "\n",
    "config = Config()\n",
    "X,y = build_rand_feat()\n"
   ]
  },
  {
   "cell_type": "code",
   "execution_count": 115,
   "id": "progressive-theater",
   "metadata": {},
   "outputs": [
    {
     "name": "stderr",
     "output_type": "stream",
     "text": [
      "/usr/local/lib/python3.8/dist-packages/sklearn/utils/validation.py:67: FutureWarning: Pass classes=[ 0  1  2  3  4  5  6  7  8  9 10 11 12 13 14 15 16], y=[ 1 14 16 ...  0 15 15] as keyword args. From version 0.25 passing these as positional arguments will result in an error\n",
      "  warnings.warn(\"Pass {} as keyword args. From version 0.25 \"\n"
     ]
    },
    {
     "name": "stdout",
     "output_type": "stream",
     "text": [
      "Epoch 1/10\n",
      "12456/12456 [==============================] - 21s 2ms/step - loss: 2.8459 - accuracy: 0.0440\n",
      "Epoch 2/10\n",
      "12456/12456 [==============================] - 18s 1ms/step - loss: 2.8455 - accuracy: 0.0404\n",
      "Epoch 3/10\n",
      "12456/12456 [==============================] - 17s 1ms/step - loss: 2.8460 - accuracy: 0.0422\n",
      "Epoch 4/10\n",
      "12456/12456 [==============================] - 17s 1ms/step - loss: 2.8458 - accuracy: 0.0427\n",
      "Epoch 5/10\n",
      "12456/12456 [==============================] - 16s 1ms/step - loss: 2.8454 - accuracy: 0.0437\n",
      "Epoch 6/10\n",
      "12456/12456 [==============================] - 18s 1ms/step - loss: 2.8460 - accuracy: 0.0422\n",
      "Epoch 7/10\n",
      "12456/12456 [==============================] - 19s 1ms/step - loss: 2.8449 - accuracy: 0.0430\n",
      "Epoch 8/10\n",
      "12456/12456 [==============================] - 17s 1ms/step - loss: 2.8455 - accuracy: 0.0413\n",
      "Epoch 9/10\n",
      "12456/12456 [==============================] - 18s 1ms/step - loss: 2.8449 - accuracy: 0.0405\n",
      "Epoch 10/10\n",
      "12456/12456 [==============================] - 17s 1ms/step - loss: 2.8450 - accuracy: 0.0382\n"
     ]
    },
    {
     "data": {
      "text/plain": [
       "<tensorflow.python.keras.callbacks.History at 0x7fa69ccb1070>"
      ]
     },
     "execution_count": 115,
     "metadata": {},
     "output_type": "execute_result"
    }
   ],
   "source": [
    "y_flat = np.argmax(y,axis=1)\n",
    "input_shape=(X.shape[1],X.shape[2],1)\n",
    "model = get_conv_model()\n",
    "class_weight = compute_class_weight('balanced',np.unique(y_flat),y_flat)\n",
    "class_weight = {i : class_weight[i] for i in range((NCLASS))}\n",
    "model.fit(X,y,epochs =10,batch_size=5,shuffle=True,class_weight = class_weight)"
   ]
  },
  {
   "cell_type": "markdown",
   "id": "involved-printing",
   "metadata": {},
   "source": [
    "### Quantum Preprocessing (applying the circuit on the mel spectrogram)"
   ]
  },
  {
   "cell_type": "code",
   "execution_count": 149,
   "id": "removed-essence",
   "metadata": {},
   "outputs": [
    {
     "name": "stdout",
     "output_type": "stream",
     "text": [
      "(13, 9, 1)\n"
     ]
    }
   ],
   "source": [
    "n_epochs = 10   # Number of optimization epochs\n",
    "n_layers = 2    # Number of random layers\n",
    "n_train = len(X)    # Size of the train dataset\n",
    "n_test = 30     # Size of the test dataset\n",
    "print(X[0].shape)\n",
    "SAVE_PATH = \"quanvolution/\" # Data saving folder\n",
    "PREPROCESS = True           # If False, skip quantum processing and load data from SAVE_PATH\n",
    "np.random.seed(0)           # Seed for NumPy random number generator\n",
    "tf.random.set_seed(0)       # Seed for TensorFlow random number generator"
   ]
  },
  {
   "cell_type": "code",
   "execution_count": null,
   "id": "gothic-remedy",
   "metadata": {},
   "outputs": [],
   "source": [
    "#tf model\n",
    "def Model():\n",
    "    \"\"\"Initializes and returns a custom Keras model\n",
    "    which is ready to be trained.\"\"\"\n",
    "    model = Sequential()\n",
    "    model.add(Flatten())\n",
    "    model.add(Dense(NCLASS, activation='softmax'))\n",
    "    opt = SGD(lr=0.02, decay=1e-6, momentum=0.9, nesterov=True, clipnorm=5)\n",
    "    model.compile(optimizer=opt, loss='categorical_crossentropy', metrics=['accuracy'])\n",
    "\n",
    "    return model"
   ]
  },
  {
   "cell_type": "code",
   "execution_count": null,
   "id": "micro-ceramic",
   "metadata": {},
   "outputs": [],
   "source": [
    "dev = qml.device(\"default.qubit\", wires=4)\n",
    "# Random circuit parameters\n",
    "rand_params = np.random.uniform(high=2 * np.pi, size=(n_layers, 4))\n",
    "\n",
    "@qml.qnode(dev)\n",
    "def circuit(phi):\n",
    "    # Encoding of 4 classical input values\n",
    "    for j in range(4):\n",
    "        qml.RY(np.pi * phi[j], wires=j)\n",
    "\n",
    "    # Random quantum circuit\n",
    "    RandomLayers(rand_params, wires=list(range(4)))\n",
    "\n",
    "    # Measurement producing 4 classical output values\n",
    "    return [qml.expval(qml.PauliZ(j)) for j in range(4)]\n",
    "\n",
    "out_height= int(((X[0].shape[0] - 2)/2)+1)\n",
    "out_width  = int(((X[0].shape[1] -2)/2)+1)\n",
    "def quanv(image):\n",
    "    \"\"\"Convolves the input image with many applications of the same quantum circuit.\"\"\"\n",
    "\n",
    "    out = np.zeros((out_height,out_width, 4))\n",
    "    # Loop over the coordinates of the top-left pixel of 2X2 squares\n",
    "    for j in range(0, X[0].shape[0]-1, 2):\n",
    "        for k in range(0, X[0].shape[1]-1, 2):\n",
    "            # Process a squared 2x2 region of the image with a quantum circuit\n",
    "            q_results = circuit(\n",
    "                [\n",
    "                    image[j, k, 0],\n",
    "                    image[j, k + 1, 0],\n",
    "                    image[j + 1, k, 0],\n",
    "                    image[j + 1, k + 1, 0]\n",
    "                ]\n",
    "            )\n",
    "            # Assign expectation values to different channels of the output pixel (j/2, k/2)\n",
    "            for c in range(4):\n",
    "                print(j//2, k//2, c)\n",
    "                out[j // 2, k // 2, c] = q_results[c]\n",
    "    return out\n",
    "\n",
    "\n",
    "if PREPROCESS == True:\n",
    "    q_train_images = []\n",
    "    print(\"Quantum pre-processing of train images:\")\n",
    "    for idx, img in enumerate(X):\n",
    "        print(\"{}/{}        \".format(idx + 1, n_train), end=\"\\r\")\n",
    "        q_train_images.append(quanv(img))\n",
    "    q_train_images = np.asarray(q_train_images)\n",
    "\n",
    "#     q_test_images = []\n",
    "#     print(\"\\nQuantum pre-processing of test images:\")\n",
    "#     for idx, img in enumerate(test_images):\n",
    "#         print(\"{}/{}        \".format(idx + 1, n_test), end=\"\\r\")\n",
    "#         q_test_images.append(quanv(img))\n",
    "#     q_test_images = np.asarray(q_test_images)\n",
    "\n"
   ]
  },
  {
   "cell_type": "code",
   "execution_count": null,
   "id": "efficient-reward",
   "metadata": {},
   "outputs": [],
   "source": [
    "### Run Quanvolutional Neural Network model\n",
    "q_model = MyModel()\n",
    "\n",
    "q_history = q_model.fit(\n",
    "    q_train_images,\n",
    "    y,\n",
    "    batch_size=5,\n",
    "    epochs=10,\n",
    "    shuffle=True,\n",
    "    class_weight = class_weight\n",
    "    verbose=2,\n",
    ")\n"
   ]
  }
 ],
 "metadata": {
  "kernelspec": {
   "display_name": "Python 3",
   "language": "python",
   "name": "python3"
  }
 },
 "nbformat": 4,
 "nbformat_minor": 5
}
