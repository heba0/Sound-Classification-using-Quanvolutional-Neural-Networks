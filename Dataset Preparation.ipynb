{
 "cells": [
  {
   "cell_type": "code",
   "execution_count": 5,
   "id": "dominant-accent",
   "metadata": {},
   "outputs": [],
   "source": [
    "import matplotlib.pyplot as plt\n",
    "import numpy as np\n",
    "import pandas as pd"
   ]
  },
  {
   "cell_type": "markdown",
   "id": "tribal-identity",
   "metadata": {},
   "source": [
    "In this notebook we will get to know our data better. We'll be splitting the given training dataset into training and testing datasets of smaller size."
   ]
  },
  {
   "cell_type": "code",
   "execution_count": 6,
   "id": "fourth-intro",
   "metadata": {},
   "outputs": [
    {
     "data": {
      "text/html": [
       "<div>\n",
       "<style scoped>\n",
       "    .dataframe tbody tr th:only-of-type {\n",
       "        vertical-align: middle;\n",
       "    }\n",
       "\n",
       "    .dataframe tbody tr th {\n",
       "        vertical-align: top;\n",
       "    }\n",
       "\n",
       "    .dataframe thead th {\n",
       "        text-align: right;\n",
       "    }\n",
       "</style>\n",
       "<table border=\"1\" class=\"dataframe\">\n",
       "  <thead>\n",
       "    <tr style=\"text-align: right;\">\n",
       "      <th></th>\n",
       "      <th>fname</th>\n",
       "      <th>label</th>\n",
       "      <th>manually_verified</th>\n",
       "    </tr>\n",
       "  </thead>\n",
       "  <tbody>\n",
       "    <tr>\n",
       "      <th>0</th>\n",
       "      <td>00044347.wav</td>\n",
       "      <td>Hi-hat</td>\n",
       "      <td>0</td>\n",
       "    </tr>\n",
       "    <tr>\n",
       "      <th>1</th>\n",
       "      <td>001ca53d.wav</td>\n",
       "      <td>Saxophone</td>\n",
       "      <td>1</td>\n",
       "    </tr>\n",
       "    <tr>\n",
       "      <th>2</th>\n",
       "      <td>002d256b.wav</td>\n",
       "      <td>Trumpet</td>\n",
       "      <td>0</td>\n",
       "    </tr>\n",
       "    <tr>\n",
       "      <th>3</th>\n",
       "      <td>0033e230.wav</td>\n",
       "      <td>Glockenspiel</td>\n",
       "      <td>1</td>\n",
       "    </tr>\n",
       "    <tr>\n",
       "      <th>4</th>\n",
       "      <td>00353774.wav</td>\n",
       "      <td>Cello</td>\n",
       "      <td>1</td>\n",
       "    </tr>\n",
       "  </tbody>\n",
       "</table>\n",
       "</div>"
      ],
      "text/plain": [
       "          fname         label  manually_verified\n",
       "0  00044347.wav        Hi-hat                  0\n",
       "1  001ca53d.wav     Saxophone                  1\n",
       "2  002d256b.wav       Trumpet                  0\n",
       "3  0033e230.wav  Glockenspiel                  1\n",
       "4  00353774.wav         Cello                  1"
      ]
     },
     "execution_count": 6,
     "metadata": {},
     "output_type": "execute_result"
    }
   ],
   "source": [
    "\n",
    "mypath = 'freesound-audio-tagging/audio_train/'\n",
    "\n",
    "data=pd.read_csv('freesound-audio-tagging/train.csv')\n",
    "sound_files_training = data.fname.tolist()\n",
    "data.head()"
   ]
  },
  {
   "cell_type": "code",
   "execution_count": 7,
   "id": "refined-convertible",
   "metadata": {},
   "outputs": [
    {
     "name": "stdout",
     "output_type": "stream",
     "text": [
      "Dataset size: 9473 \n",
      "Number of categories: 41\n"
     ]
    }
   ],
   "source": [
    "ds_size = data['label'].size\n",
    "n_categories= data['label'].nunique()\n",
    "\n",
    "print(\"Dataset size: %d \\nNumber of categories: %d\"%(ds_size, n_categories))"
   ]
  },
  {
   "cell_type": "code",
   "execution_count": 8,
   "id": "organic-satisfaction",
   "metadata": {},
   "outputs": [
    {
     "data": {
      "text/plain": [
       "Fart                     300\n",
       "Laughter                 300\n",
       "Violin_or_fiddle         300\n",
       "Squeak                   300\n",
       "Double_bass              300\n",
       "Fireworks                300\n",
       "Clarinet                 300\n",
       "Saxophone                300\n",
       "Tearing                  300\n",
       "Trumpet                  300\n",
       "Shatter                  300\n",
       "Bass_drum                300\n",
       "Applause                 300\n",
       "Flute                    300\n",
       "Snare_drum               300\n",
       "Acoustic_guitar          300\n",
       "Hi-hat                   300\n",
       "Cello                    300\n",
       "Oboe                     299\n",
       "Gong                     292\n",
       "Knock                    279\n",
       "Writing                  270\n",
       "Cough                    243\n",
       "Bark                     239\n",
       "Tambourine               221\n",
       "Burping_or_eructation    210\n",
       "Cowbell                  191\n",
       "Harmonica                165\n",
       "Drawer_open_or_close     158\n",
       "Meow                     155\n",
       "Electric_piano           150\n",
       "Gunshot_or_gunfire       147\n",
       "Microwave_oven           146\n",
       "Keys_jangling            139\n",
       "Telephone                120\n",
       "Computer_keyboard        119\n",
       "Finger_snapping          117\n",
       "Chime                    115\n",
       "Bus                      109\n",
       "Scissors                  95\n",
       "Glockenspiel              94\n",
       "Name: label, dtype: int64"
      ]
     },
     "execution_count": 8,
     "metadata": {},
     "output_type": "execute_result"
    }
   ],
   "source": [
    "#Count number of data for each category\n",
    "data['label'].value_counts()"
   ]
  },
  {
   "cell_type": "code",
   "execution_count": 10,
   "id": "noble-courage",
   "metadata": {},
   "outputs": [
    {
     "name": "stdout",
     "output_type": "stream",
     "text": [
      "Fart                300\n",
      "Laughter            300\n",
      "Violin_or_fiddle    300\n",
      "Squeak              300\n",
      "Double_bass         300\n",
      "Fireworks           300\n",
      "Clarinet            300\n",
      "Saxophone           300\n",
      "Tearing             300\n",
      "Trumpet             300\n",
      "Shatter             300\n",
      "Bass_drum           300\n",
      "Applause            300\n",
      "Flute               300\n",
      "Snare_drum          300\n",
      "Acoustic_guitar     300\n",
      "Hi-hat              300\n",
      "Cello               300\n",
      "Name: label, dtype: int64\n"
     ]
    }
   ],
   "source": [
    "#we'll use categories with 300 samples\n",
    "categories = data['label'].value_counts()[:18]\n",
    "print(categories)"
   ]
  },
  {
   "cell_type": "code",
   "execution_count": 11,
   "id": "equivalent-movie",
   "metadata": {},
   "outputs": [
    {
     "name": "stdout",
     "output_type": "stream",
     "text": [
      "['Fart', 'Laughter', 'Violin_or_fiddle', 'Squeak', 'Double_bass', 'Fireworks', 'Clarinet', 'Saxophone', 'Tearing', 'Trumpet', 'Shatter', 'Bass_drum', 'Applause', 'Flute', 'Snare_drum', 'Acoustic_guitar', 'Hi-hat', 'Cello']\n"
     ]
    }
   ],
   "source": [
    "#get an array of the categories we'll be using\n",
    "categories = categories.index.tolist()\n",
    "print(categories)"
   ]
  },
  {
   "cell_type": "code",
   "execution_count": 24,
   "id": "opponent-despite",
   "metadata": {},
   "outputs": [
    {
     "name": "stdout",
     "output_type": "stream",
     "text": [
      "             fname  label  manually_verified\n",
      "0     00c82919.wav   Fart                  0\n",
      "1     010aa387.wav   Fart                  0\n",
      "2     021f8009.wav   Fart                  0\n",
      "3     0262817d.wav   Fart                  0\n",
      "4     051f9935.wav   Fart                  0\n",
      "...            ...    ...                ...\n",
      "3595  a71babd2.wav  Cello                  0\n",
      "3596  a75e8258.wav  Cello                  1\n",
      "3597  a85cec71.wav  Cello                  0\n",
      "3598  a8b6ece8.wav  Cello                  1\n",
      "3599  ab8e8ae3.wav  Cello                  1\n",
      "\n",
      "[3600 rows x 3 columns]\n",
      "             fname  label  manually_verified\n",
      "0     9e58e083.wav   Fart                  0\n",
      "1     a093853b.wav   Fart                  0\n",
      "2     a20ca49c.wav   Fart                  0\n",
      "3     a26f5ea2.wav   Fart                  0\n",
      "4     a3989591.wav   Fart                  0\n",
      "...            ...    ...                ...\n",
      "1795  fc9db86a.wav  Cello                  0\n",
      "1796  fe4d3c34.wav  Cello                  0\n",
      "1797  fecb559e.wav  Cello                  0\n",
      "1798  ff875923.wav  Cello                  0\n",
      "1799  ffc92b01.wav  Cello                  1\n",
      "\n",
      "[1800 rows x 3 columns]\n"
     ]
    }
   ],
   "source": [
    "#numbe\"\"r of training samples\n",
    "n_training = 200\n",
    "#first entry\n",
    "train_df = data[data.label == categories[0]][:n_training]\n",
    "test_df = data[data.label == categories[0]][n_training:]\n",
    "\n",
    "for category in categories[1:]:\n",
    "    train_df =train_df.append(data[data.label == category][:n_training], ignore_index=True)\n",
    "    test_df =test_df.append(data[data.label == category][n_training:], ignore_index=True)\n",
    "\n",
    "#reset index \n",
    "train_df.reset_index(drop=True,inplace = True)\n",
    "test_df.reset_index(drop=True,inplace = True)\n",
    "\n",
    "print(train_df )   \n",
    "print(test_df)"
   ]
  },
  {
   "cell_type": "code",
   "execution_count": 27,
   "id": "permanent-regulation",
   "metadata": {},
   "outputs": [],
   "source": [
    "#save data to a csv file\n",
    "train_df.to_csv(\"freesound-audio-tagging/training_new.csv\")\n",
    "test_df.to_csv(\"freesound-audio-tagging/testing_new.csv\")"
   ]
  }
 ],
 "metadata": {
  "kernelspec": {
   "display_name": "Python 3",
   "language": "python",
   "name": "python3"
  },
  "language_info": {
   "codemirror_mode": {
    "name": "ipython",
    "version": 3
   },
   "file_extension": ".py",
   "mimetype": "text/x-python",
   "name": "python",
   "nbconvert_exporter": "python",
   "pygments_lexer": "ipython3",
   "version": "3.8.5"
  }
 },
 "nbformat": 4,
 "nbformat_minor": 5
}
